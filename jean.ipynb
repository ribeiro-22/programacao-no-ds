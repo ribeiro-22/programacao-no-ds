{
  "nbformat": 4,
  "nbformat_minor": 0,
  "metadata": {
    "colab": {
      "provenance": [],
      "authorship_tag": "ABX9TyPkkBo3x4wvoUVU/oa9FJW7",
      "include_colab_link": true
    },
    "kernelspec": {
      "name": "python3",
      "display_name": "Python 3"
    },
    "language_info": {
      "name": "python"
    }
  },
  "cells": [
    {
      "cell_type": "markdown",
      "metadata": {
        "id": "view-in-github",
        "colab_type": "text"
      },
      "source": [
        "<a href=\"https://colab.research.google.com/github/ribeiro-22/programacao-no-ds/blob/main/jean.ipynb\" target=\"_parent\"><img src=\"https://colab.research.google.com/assets/colab-badge.svg\" alt=\"Open In Colab\"/></a>"
      ]
    },
    {
      "cell_type": "code",
      "execution_count": null,
      "metadata": {
        "colab": {
          "base_uri": "https://localhost:8080/"
        },
        "id": "HxeFwfJpeTuA",
        "outputId": "04c1c5ae-bf6a-44f3-eb24-6d5f859fc325"
      },
      "outputs": [
        {
          "output_type": "stream",
          "name": "stdout",
          "text": [
            "Executado com sucesso!\n"
          ]
        }
      ],
      "source": [
        "# Importa a biblioteca para trabalhar com bancos de dados SQLite.\n",
        "import sqlite3\n",
        "\n",
        "# Conecta ao banco de dados (ou criar se não existir)\n",
        "conn = sqlite3.connect('clientes.db')\n",
        "\n",
        "# O método .cursor() cria um objeto chamado \"cursor\".\n",
        "# Esse objeto é sua interface para enviar comandos SQL ao BD.\n",
        "cursor = conn.cursor()\n",
        "\n",
        "# Cria a tabela de clientes\n",
        "cursor.execute('''\n",
        "CREATE TABLE IF NOT EXISTS clientes (\n",
        "id INTEGER PRIMARY KEY AUTOINCREMENT,\n",
        "nome TEXT NOT NULL,\n",
        "email TEXT NOT NULL UNIQUE\n",
        ")\n",
        "''')\n",
        "\n",
        "# Confirma as mudanças\n",
        "conn.commit()\n",
        "\n",
        "# Fecha a conexão\n",
        "conn.close()\n",
        "\n",
        "# Confirma execução do bloco de código\n",
        "print(\"Executado com sucesso!\")"
      ]
    },
    {
      "cell_type": "code",
      "source": [
        "# Define função para \"limpar\" formulário, resetando os campos.\n",
        "# A função não recebe parâmetros, só retorna novo dicionário.\n",
        "def limpar_formulario():\n",
        "    # Retorna dicionário com as chaves 'nome' e 'email' e valores\n",
        "    return {'nome': '', 'email': ''}\n",
        "\n",
        "# Exemplo de uso\n",
        "# Cria dicionário que simula formulário preenchido.\n",
        "formulario = {'nome': 'João', 'email': 'joao@example.com'}\n",
        "print(\"Antes de limpar:\", formulario)\n",
        "\n",
        "# Chama função para obter o formulário limpo e atribui o resultado\n",
        "# à variável 'formulario', sobrescrevendo o valor anterior com campos vazios.\n",
        "formulario = limpar_formulario()\n",
        "print(\"Depois de limpar:\", formulario)\n",
        "\n"
      ],
      "metadata": {
        "colab": {
          "base_uri": "https://localhost:8080/"
        },
        "id": "B3k5F5-QprZX",
        "outputId": "e2a933f3-19fb-48b8-96cb-e8336a71f2cd"
      },
      "execution_count": 1,
      "outputs": [
        {
          "output_type": "stream",
          "name": "stdout",
          "text": [
            "Antes de limpar: {'nome': 'João', 'email': 'joao@example.com'}\n",
            "Depois de limpar: {'nome': '', 'email': ''}\n"
          ]
        }
      ]
    }
  ]
}